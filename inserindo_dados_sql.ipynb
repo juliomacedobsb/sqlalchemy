{
  "nbformat": 4,
  "nbformat_minor": 0,
  "metadata": {
    "colab": {
      "provenance": [],
      "authorship_tag": "ABX9TyP4fnpPD4bTgF6GNRAYxQe8"
    },
    "kernelspec": {
      "name": "python3",
      "display_name": "Python 3"
    },
    "language_info": {
      "name": "python"
    }
  },
  "cells": [
    {
      "cell_type": "code",
      "source": [
        "import requests as rq\n",
        "from bs4 import BeautifulSoup as bs\n",
        "import pandas as pd"
      ],
      "metadata": {
        "id": "rFXFglY_QjV0"
      },
      "execution_count": null,
      "outputs": []
    },
    {
      "cell_type": "code",
      "execution_count": null,
      "metadata": {
        "id": "i_AdLOUaQlTS"
      },
      "outputs": [],
      "source": [
        "import psycopg2\n"
      ]
    },
    {
      "cell_type": "code",
      "execution_count": null,
      "metadata": {
        "id": "8GEitPsmQgb6"
      },
      "outputs": [],
      "source": [
        "conn_string = 'host={0} user={1} dbname={2} password={3} sslmode={4}'.format(host, user, dbname, password, sslmode)"
      ]
    },
    {
      "cell_type": "code",
      "source": [
        "headers = ({'User-Agent' : 'Mozilla/5.0 (X11; Ubuntu; Linux x86_64; rv:102.0) Gecko/20100101 Firefox/102.0'})\n",
        "url = 'https://df.olx.com.br/imoveis/aluguel'\n",
        "response = rq.get(url,  headers=headers)\n",
        "content = response.content\n",
        "\n",
        "site = bs(content, 'html.parser')"
      ],
      "metadata": {
        "id": "DbnJxupaQjY8"
      },
      "execution_count": null,
      "outputs": []
    },
    {
      "cell_type": "code",
      "source": [
        "l = site.find('div', class_='sc-EHOje gpDieb')\n",
        "\n",
        "paginas = []\n",
        "\n",
        "\n",
        "for item in l.find_all('a'):\n",
        "  paginas.append(item['href'])\n",
        "paginas"
      ],
      "metadata": {
        "id": "dmYhHHiiQjcF"
      },
      "execution_count": null,
      "outputs": []
    },
    {
      "cell_type": "code",
      "source": [
        "titulos = []\n",
        "links = []\n",
        "valores = []\n",
        "\n",
        "\n",
        "itens = site.find('ul', id='ad-list')\n",
        "for pagina in paginas:\n",
        "  for item in itens.find_all('a'):\n",
        "    links.append(item['href'])\n",
        "  else:\n",
        "    links.append('') "
      ],
      "metadata": {
        "id": "EkF4S2lqQje9"
      },
      "execution_count": null,
      "outputs": []
    },
    {
      "cell_type": "code",
      "source": [
        "itens = site.find('ul', id='ad-list')\n",
        "for pagina in paginas:\n",
        "  for item in itens.find_all('a'):\n",
        "    titulos.append(item['title'])\n",
        "  else:\n",
        "    titulos.append('')"
      ],
      "metadata": {
        "id": "8plvnfiHQjh-"
      },
      "execution_count": null,
      "outputs": []
    },
    {
      "cell_type": "code",
      "source": [
        "itens = site.find('ul', id='ad-list')\n",
        "for pagina in paginas:\n",
        "  for item in itens.find_all('a'):\n",
        "    titulos.append(item['title'])\n",
        "  else:\n",
        "    titulos.append('')"
      ],
      "metadata": {
        "id": "4KAMyVwTQ_km"
      },
      "execution_count": null,
      "outputs": []
    },
    {
      "cell_type": "code",
      "source": [
        "localizacao = []\n",
        "\n",
        "\n",
        "itens = site.find('ul', id='ad-list')\n",
        "for pagina in paginas:\n",
        "\n",
        "  for item in itens.find_all('span', class_='sc-1c3ysll-1 cLQXSQ sc-ifAKCX lgjPoE'):\n",
        "    localizacao.append(item['title'])\n",
        "  else:\n",
        "    localizacao.append('') "
      ],
      "metadata": {
        "id": "97jtq2XJQ_nZ"
      },
      "execution_count": null,
      "outputs": []
    },
    {
      "cell_type": "code",
      "source": [
        "data = []\n",
        "\n",
        "itens = site.find('ul', id='ad-list')\n",
        "for pagina in paginas:\n",
        "\n",
        "\n",
        "  \n",
        "    for item in itens.find_all('span', class_='sc-11h4wdr-0 javKJU sc-ifAKCX lgjPoE'):\n",
        "      data.append(item['aria-label'])\n",
        "    else:\n",
        "      data.append('')  "
      ],
      "metadata": {
        "id": "hdqqx0_fQ_qr"
      },
      "execution_count": null,
      "outputs": []
    },
    {
      "cell_type": "code",
      "source": [
        "metros = []\n",
        "quartos = []\n",
        "cond = []\n",
        "\n",
        "itens = site.find('ul', id='ad-list')\n",
        "for pagina in paginas:\n",
        "  for item in itens.find_all('span', class_='sc-1ftm7qz-0 doofcG sc-ifAKCX lgjPoE'):\n",
        "      if 'm²' in str(item.text):\n",
        "        metros.append(item.text)\n",
        "      elif 'quartos' in str(item.text):\n",
        "        quartos.append(item.text)\n",
        "      elif 'Condomínio' in str(item.text):\n",
        "        cond.append(item.text)\n",
        "          "
      ],
      "metadata": {
        "id": "7UGZqzSXQ_tY"
      },
      "execution_count": null,
      "outputs": []
    },
    {
      "cell_type": "code",
      "source": [
        "df = pd.DataFrame(list(zip(titulos, links, valores, localizacao, data, metros, quartos, cond,)),\n",
        "                  columns=['titulo', 'link', 'aluguel', 'localização', 'data de postagem', 'metragem', 'quartos', 'condominio' ])"
      ],
      "metadata": {
        "id": "6ZpvHJMlQ_wb"
      },
      "execution_count": null,
      "outputs": []
    },
    {
      "cell_type": "code",
      "source": [
        "df['aluguel'] = df['aluguel'].str.replace(r'\\D', '')\n",
        "df['condominio'] = df['condominio'].str.replace(r'\\D', '')\n",
        "df['metragem'] = df['metragem'].str.replace(r'\\D', '')\n",
        "df['quartos'] = df['quartos'].str.replace(r'\\D', '')\n"
      ],
      "metadata": {
        "id": "01tnBvYaQ_zA"
      },
      "execution_count": null,
      "outputs": []
    },
    {
      "cell_type": "code",
      "source": [
        "df['condominio'] = pd.to_numeric(df['condominio'])\n",
        "df['metragem'] = pd.to_numeric(df['metragem'])\n",
        "df['aluguel'] = pd.to_numeric(df['aluguel'])\n",
        "df['quartos'] = pd.to_numeric(df['quartos'])"
      ],
      "metadata": {
        "id": "YMLWxPWrQ_2C"
      },
      "execution_count": null,
      "outputs": []
    },
    {
      "cell_type": "code",
      "source": [
        "df['valor total'] = df['aluguel'] + df['condominio']"
      ],
      "metadata": {
        "id": "MeTErd02Q_43"
      },
      "execution_count": null,
      "outputs": []
    },
    {
      "cell_type": "code",
      "source": [
        "#adicionando os dados ao postgres\n",
        "import sqlalchemy\n",
        "from sqlalchemy import create_engine"
      ],
      "metadata": {
        "id": "yz9D1DYTQjlA"
      },
      "execution_count": null,
      "outputs": []
    },
    {
      "cell_type": "code",
      "source": [
        "conn_string = 'jdbc:postgresql://locahost5432/olx'"
      ],
      "metadata": {
        "id": "jsKQgvvSQjoJ"
      },
      "execution_count": null,
      "outputs": []
    },
    {
      "cell_type": "code",
      "source": [
        "PGHOST = 'localhost'\n",
        "PGDATABASE = 'olx'\n",
        "PGUSER = 'postgres'\n",
        "PGPASSWORD = 'senha'"
      ],
      "metadata": {
        "id": "VGRit8avQjr5"
      },
      "execution_count": null,
      "outputs": []
    },
    {
      "cell_type": "code",
      "source": [
        "engine = sqlalchemy.create_engine(f'postgresql://{PGUSER}:{PGPASSWORD}@{PGHOST}:5432/{PGDATABASE}')"
      ],
      "metadata": {
        "id": "BMxl_NeeQjum"
      },
      "execution_count": null,
      "outputs": []
    },
    {
      "cell_type": "code",
      "source": [
        "df.to_sql('df', engine, if_exists='append', index=False)"
      ],
      "metadata": {
        "id": "49auQiVPSGMq"
      },
      "execution_count": null,
      "outputs": []
    },
    {
      "cell_type": "code",
      "source": [],
      "metadata": {
        "id": "fZM9_US2T5JX"
      },
      "execution_count": null,
      "outputs": []
    },
    {
      "cell_type": "code",
      "source": [],
      "metadata": {
        "id": "4Z8xk3r-SGPx"
      },
      "execution_count": null,
      "outputs": []
    },
    {
      "cell_type": "code",
      "source": [],
      "metadata": {
        "id": "PO0bD0ZcSGS3"
      },
      "execution_count": null,
      "outputs": []
    },
    {
      "cell_type": "code",
      "source": [],
      "metadata": {
        "id": "UkFgkYsPSGV3"
      },
      "execution_count": null,
      "outputs": []
    },
    {
      "cell_type": "code",
      "source": [],
      "metadata": {
        "id": "JLyP6eRqSGZL"
      },
      "execution_count": null,
      "outputs": []
    },
    {
      "cell_type": "code",
      "source": [],
      "metadata": {
        "id": "Dkw14a4uSGcE"
      },
      "execution_count": null,
      "outputs": []
    },
    {
      "cell_type": "code",
      "source": [],
      "metadata": {
        "id": "9NPI6tbJQjx5"
      },
      "execution_count": null,
      "outputs": []
    }
  ]
}